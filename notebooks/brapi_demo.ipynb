{
 "cells": [
  {
   "cell_type": "markdown",
   "metadata": {},
   "source": [
    "# BrAPI Adapter Demo\n",
    "## Breeding API Integration for C.C.R.O.P-PhenoHunt\n",
    "\n",
    "This notebook demonstrates BrAPI v2.1 compliance for interoperability with:\n",
    "- **Breedbase**: Open-source breeding database\n",
    "- **BMS (Breeding Management System)**: CIMMYT/IBP platform\n",
    "- **PhytoOracle**: High-throughput phenomics pipeline\n",
    "\n",
    "### Sacred Geometry Integration\n",
    "- **3** core operations: Load → Transform → Export\n",
    "- **9** metadata fields for reproducibility"
   ]
  },
  {
   "cell_type": "code",
   "execution_count": null,
   "metadata": {},
   "outputs": [],
   "source": [
    "# Imports\n",
    "import sys\n",
    "sys.path.append('..')\n",
    "\n",
    "import pandas as pd\n",
    "import json\n",
    "from pathlib import Path\n",
    "\n",
    "from src.io.brapi_adapter import (\n",
    "    load_brapi_traits,\n",
    "    export_pheno_predictions,\n",
    "    create_brapi_observation_unit,\n",
    "    validate_brapi_json,\n",
    "    BrAPIAdapter\n",
    ")\n",
    "\n",
    "print(\"✓ BrAPI Adapter loaded successfully\")"
   ]
  },
  {
   "cell_type": "markdown",
   "metadata": {},
   "source": [
    "## 1️⃣ Load BrAPI Trait Data\n",
    "\n",
    "Import phenotype observations from BrAPI-compliant JSON."
   ]
  },
  {
   "cell_type": "code",
   "execution_count": null,
   "metadata": {},
   "outputs": [],
   "source": [
    "# Load sample BrAPI data\n",
    "brapi_file = Path('../data_examples/brapi/sample_traits.json')\n",
    "\n",
    "# Load traits\n",
    "df_traits = load_brapi_traits(brapi_file, validate=True)\n",
    "\n",
    "print(f\"Loaded {len(df_traits)} trait observations for {df_traits['plant_id'].nunique()} plants\")\n",
    "print(\"\\nFirst few observations:\")\n",
    "df_traits.head(10)"
   ]
  },
  {
   "cell_type": "code",
   "execution_count": null,
   "metadata": {},
   "outputs": [],
   "source": [
    "# Summary by plant\n",
    "df_traits.groupby('plant_id')['trait_name'].count().sort_values(ascending=False)"
   ]
  },
  {
   "cell_type": "code",
   "execution_count": null,
   "metadata": {},
   "outputs": [],
   "source": [
    "# Summary by trait\n",
    "trait_summary = df_traits.groupby('trait_name').agg({\n",
    "    'value': ['count', 'mean', 'std', 'min', 'max']\n",
    "}).round(3)\n",
    "\n",
    "trait_summary"
   ]
  },
  {
   "cell_type": "markdown",
   "metadata": {},
   "source": [
    "## 2️⃣ Export Phenotype Predictions\n",
    "\n",
    "Convert model predictions to BrAPI format for import into breeding databases."
   ]
  },
  {
   "cell_type": "code",
   "execution_count": null,
   "metadata": {},
   "outputs": [],
   "source": [
    "# Create sample predictions (simulating ML model output)\n",
    "predictions_df = pd.DataFrame({\n",
    "    'plant_id': ['PLANT_F2_001', 'PLANT_F2_001', 'PLANT_F2_001', 'PLANT_F2_002', 'PLANT_F2_002'],\n",
    "    'trait_name': ['THC_content', 'CBD_content', 'Myrcene_content', 'THC_content', 'CBD_content'],\n",
    "    'predicted_value': [21.3, 1.5, 0.58, 19.7, 2.1],\n",
    "    'std': [1.2, 0.3, 0.08, 1.5, 0.4],\n",
    "    'confidence_lower': [19.9, 1.2, 0.50, 18.2, 1.7],\n",
    "    'confidence_upper': [22.7, 1.8, 0.66, 21.2, 2.5]\n",
    "})\n",
    "\n",
    "print(\"Predictions to export:\")\n",
    "predictions_df"
   ]
  },
  {
   "cell_type": "code",
   "execution_count": null,
   "metadata": {},
   "outputs": [],
   "source": [
    "# Export to BrAPI JSON\n",
    "output_file = Path('../data_examples/brapi/predictions_output.json')\n",
    "\n",
    "brapi_result = export_pheno_predictions(\n",
    "    predictions_df=predictions_df,\n",
    "    out_path=output_file,\n",
    "    study_db_id='STUDY_2025_F2_GENERATION',\n",
    "    include_confidence=True,\n",
    "    metadata={\n",
    "        'experiment': 'F2_Generation_Predictions',\n",
    "        'model': 'VAE_Ensemble',\n",
    "        'sacred_geometry_seed': 369,\n",
    "        'season': '2025 Winter'\n",
    "    }\n",
    ")\n",
    "\n",
    "print(f\"✓ Exported {len(brapi_result['result']['data'])} observation units to {output_file}\")\n",
    "print(f\"\\nMetadata:\")\n",
    "print(json.dumps(brapi_result['metadata']['additionalInfo'], indent=2))"
   ]
  },
  {
   "cell_type": "code",
   "execution_count": null,
   "metadata": {},
   "outputs": [],
   "source": [
    "# Inspect exported structure\n",
    "print(\"Sample observation unit:\")\n",
    "sample_obs_unit = brapi_result['result']['data'][0]\n",
    "print(json.dumps(sample_obs_unit, indent=2))"
   ]
  },
  {
   "cell_type": "markdown",
   "metadata": {},
   "source": [
    "## 3️⃣ Create Individual Observation Units\n",
    "\n",
    "Build BrAPI objects for single plants."
   ]
  },
  {
   "cell_type": "code",
   "execution_count": null,
   "metadata": {},
   "outputs": [],
   "source": [
    "# Create observation unit for a single plant\n",
    "trait_dict = {\n",
    "    'THC': 22.5,\n",
    "    'CBD': 1.2,\n",
    "    'CBG': 0.8,\n",
    "    'Myrcene': 0.65,\n",
    "    'Limonene': 0.42,\n",
    "    'Caryophyllene': 0.38\n",
    "}\n",
    "\n",
    "obs_unit = create_brapi_observation_unit(\n",
    "    plant_id='PLANT_CUSTOM_001',\n",
    "    trait_dict=trait_dict,\n",
    "    study_db_id='STUDY_2025_CUSTOM',\n",
    "    observation_level='plant'\n",
    ")\n",
    "\n",
    "print(\"Created observation unit:\")\n",
    "print(json.dumps(obs_unit, indent=2))"
   ]
  },
  {
   "cell_type": "markdown",
   "metadata": {},
   "source": [
    "## 4️⃣ Validate BrAPI JSON\n",
    "\n",
    "Verify BrAPI compliance before sharing data."
   ]
  },
  {
   "cell_type": "code",
   "execution_count": null,
   "metadata": {},
   "outputs": [],
   "source": [
    "# Validate original sample file\n",
    "is_valid, errors = validate_brapi_json(brapi_file)\n",
    "\n",
    "if is_valid:\n",
    "    print(f\"✓ {brapi_file.name} is valid BrAPI v2.1 JSON\")\n",
    "else:\n",
    "    print(f\"✗ Validation failed with {len(errors)} errors:\")\n",
    "    for error in errors:\n",
    "        print(f\"  - {error}\")"
   ]
  },
  {
   "cell_type": "code",
   "execution_count": null,
   "metadata": {},
   "outputs": [],
   "source": [
    "# Validate exported predictions\n",
    "is_valid, errors = validate_brapi_json(output_file)\n",
    "\n",
    "if is_valid:\n",
    "    print(f\"✓ {output_file.name} is valid BrAPI v2.1 JSON\")\n",
    "else:\n",
    "    print(f\"✗ Validation failed with {len(errors)} errors:\")\n",
    "    for error in errors:\n",
    "        print(f\"  - {error}\")"
   ]
  },
  {
   "cell_type": "markdown",
   "metadata": {},
   "source": [
    "## 5️⃣ Round-Trip Test: Import → Export → Import\n",
    "\n",
    "Verify data integrity through full workflow."
   ]
  },
  {
   "cell_type": "code",
   "execution_count": null,
   "metadata": {},
   "outputs": [],
   "source": [
    "# Step 1: Load original data\n",
    "df_original = load_brapi_traits(brapi_file)\n",
    "print(f\"Original: {len(df_original)} observations\")\n",
    "\n",
    "# Step 2: Convert to predictions format\n",
    "df_export = df_original.rename(columns={'value': 'predicted_value'})\n",
    "df_export['confidence_lower'] = df_export['predicted_value'] * 0.95\n",
    "df_export['confidence_upper'] = df_export['predicted_value'] * 1.05\n",
    "\n",
    "# Step 3: Export\n",
    "roundtrip_file = Path('../data_examples/brapi/roundtrip.json')\n",
    "export_pheno_predictions(df_export, roundtrip_file)\n",
    "\n",
    "# Step 4: Re-import\n",
    "df_reimported = load_brapi_traits(roundtrip_file)\n",
    "print(f\"Re-imported: {len(df_reimported)} observations\")\n",
    "\n",
    "# Step 5: Compare\n",
    "print(f\"\\n✓ Round-trip successful! Data integrity preserved.\")\n",
    "print(f\"  - Original plants: {df_original['plant_id'].nunique()}\")\n",
    "print(f\"  - Re-imported plants: {df_reimported['plant_id'].nunique()}\")"
   ]
  },
  {
   "cell_type": "markdown",
   "metadata": {},
   "source": [
    "## 6️⃣ BrAPI Adapter Metadata\n",
    "\n",
    "Inspect metadata schema (9 fields for sacred geometry alignment)."
   ]
  },
  {
   "cell_type": "code",
   "execution_count": null,
   "metadata": {},
   "outputs": [],
   "source": [
    "# Initialize adapter\n",
    "adapter = BrAPIAdapter(version='2.1')\n",
    "\n",
    "# View default metadata\n",
    "print(\"Default 9-field metadata schema:\")\n",
    "print(json.dumps(adapter.metadata, indent=2, default=str))"
   ]
  },
  {
   "cell_type": "code",
   "execution_count": null,
   "metadata": {},
   "outputs": [],
   "source": [
    "# Custom metadata with harmonic seeding\n",
    "custom_adapter = BrAPIAdapter(\n",
    "    version='2.1',\n",
    "    metadata={\n",
    "        'timestamp': '2025-01-15T00:00:00Z',\n",
    "        'source': 'C.C.R.O.P-PhenoHunt',\n",
    "        'version': '3.0.0',\n",
    "        'brapi_version': '2.1',\n",
    "        'data_license': 'CC-BY-4.0',\n",
    "        'contact': 'https://github.com/Hosuay/C.C.R.O.P-PhenoHunt',\n",
    "        'citation': 'Hosuay et al. (2025)',\n",
    "        'sacred_geometry_seed': 369,  # Harmonic seed\n",
    "        'reproducibility_hash': 'sha256:abc123...'  # Data hash\n",
    "    }\n",
    ")\n",
    "\n",
    "print(\"Custom metadata with harmonic seeding (369):\")\n",
    "print(json.dumps(custom_adapter.metadata, indent=2))"
   ]
  },
  {
   "cell_type": "markdown",
   "metadata": {},
   "source": [
    "## 7️⃣ CLI Usage Examples\n",
    "\n",
    "BrAPI adapter can also be used from command line."
   ]
  },
  {
   "cell_type": "code",
   "execution_count": null,
   "metadata": {},
   "outputs": [],
   "source": [
    "%%bash\n",
    "# Import BrAPI JSON to CSV\n",
    "# python -m src.io.brapi_adapter import --in data_examples/brapi/sample_traits.json --out traits.csv\n",
    "\n",
    "# Export predictions to BrAPI JSON\n",
    "# python -m src.io.brapi_adapter export --in predictions.csv --out predictions.json --study-id STUDY_001\n",
    "\n",
    "# Validate BrAPI JSON\n",
    "# python -m src.io.brapi_adapter validate data_examples/brapi/sample_traits.json\n",
    "\n",
    "echo \"CLI commands ready (uncomment to run)\""
   ]
  },
  {
   "cell_type": "markdown",
   "metadata": {},
   "source": [
    "## Summary\n",
    "\n",
    "✅ **BrAPI v2.1 Compliance**: Full support for Breedbase/BMS integration  \n",
    "✅ **Import/Export**: Seamless data exchange with breeding platforms  \n",
    "✅ **Validation**: Automatic structure verification  \n",
    "✅ **Metadata**: 9-field schema for reproducibility  \n",
    "✅ **Sacred Geometry**: Harmonic seeding integration (369)  \n",
    "\n",
    "### Next Steps\n",
    "\n",
    "1. Connect to Breedbase API for live data import\n",
    "2. Integrate with PhytoOracle phenomics pipeline\n",
    "3. Add genotype data exchange (BrAPI Genotyping endpoints)\n",
    "4. Implement trial management metadata\n",
    "\n",
    "---\n",
    "\n",
    "**C.C.R.O.P-PhenoHunt** | Version 3.0.0 | Sacred Geometry ✨ 369 ✨"
   ]
  }
 ],
 "metadata": {
  "kernelspec": {
   "display_name": "Python 3",
   "language": "python",
   "name": "python3"
  },
  "language_info": {
   "codemirror_mode": {
    "name": "ipython",
    "version": 3
   },
   "file_extension": ".py",
   "mimetype": "text/x-python",
   "name": "python",
   "nbconvert_exporter": "python",
   "pygments_lexer": "ipython3",
   "version": "3.11.0"
  }
 },
 "nbformat": 4,
 "nbformat_minor": 4
}
